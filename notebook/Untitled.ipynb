{
 "cells": [
  {
   "cell_type": "code",
   "execution_count": 76,
   "id": "9809a47f-8a5c-4c83-9d6b-4785aefe3e52",
   "metadata": {},
   "outputs": [],
   "source": [
    "from datasets import DatasetDict\n",
    "\n",
    "\n",
    "# dataset_type = 'ds_preprocessed_translate_summarize_with_drugbank_names2'\n",
    "dataset_type = 'ds_preprocessed_translate_summarize2_with_drug_interaction'\n",
    "# dataset_type = 'ds_preprocessed_translate_summarize2_with_drugbank_classification'\n",
    "\n",
    "ds_path = f'../data/task1/{dataset_type}'\n",
    "dataset = DatasetDict.load_from_disk(ds_path)\n"
   ]
  },
  {
   "cell_type": "code",
   "execution_count": 87,
   "id": "88ab25f6-395e-478a-9969-1f901dc8f1d1",
   "metadata": {},
   "outputs": [],
   "source": [
    "df = dataset['train'].to_pandas()"
   ]
  },
  {
   "cell_type": "code",
   "execution_count": 78,
   "id": "54595f99-aa5f-4954-85ce-2b0a300142a6",
   "metadata": {},
   "outputs": [
    {
     "data": {
      "text/plain": [
       "398"
      ]
     },
     "execution_count": 78,
     "metadata": {},
     "output_type": "execute_result"
    }
   ],
   "source": [
    "len(df[df['label'] == 1])\n",
    "# len(df)"
   ]
  },
  {
   "cell_type": "code",
   "execution_count": 68,
   "id": "f5b8c12a-4d93-4654-b686-77680fbccb93",
   "metadata": {},
   "outputs": [],
   "source": [
    "import pandas as pd\n",
    "\n",
    "pd.options.display.max_colwidth = 0"
   ]
  },
  {
   "cell_type": "code",
   "execution_count": 99,
   "id": "2d80b1b6-352a-42a1-8e65-9b6ea422d129",
   "metadata": {},
   "outputs": [
    {
     "name": "stdout",
     "output_type": "stream",
     "text": [
      "224    fluoxetine [sep] Do you not feel drowsy from it? Lately, I've been getting knocked out during the day. I can't figure out if I have some kind of AIDS-cancer or if fluoxetine has started to work like this.                                                                                                                                                                                     \n",
      "240    When you take it, you feel dizzy, your blood pressure fluctuates, and if you take it for a long time, the most unpleasant thing is that you become dependent.                                                                                                                                                                                                                                    \n",
      "258    paroxetine [sep] I've been feeling nauseous almost constantly for about twelve hours now (a side effect of Paxil) kmn I hope it will pass soon and get better.                                                                                                                                                                                                                                   \n",
      "274    fluoxetine [drug] hydroxyzine [drug] edratide [sep] has known drug interaction [sep] Fluoxetine together with Atarax (a sedative) The first week I slept like crazy, and as a result, my routine completely broke down, leading to deterioration and suicidal thoughts. All this time, I felt like I wasn't myself, couldn't understand where my emotions were and where the brain chemistry was.\n",
      "311    lamotrigine [sep] [user] i am on only 25mg lamictal but it makes me anxious and insomniac so i skip sometimes and get depressed.                                                                                                                                                                                                                                                                 \n",
      "313    diclofenac [sep] Did you know that diclofenac stings the eyes a lot? I know now.                                                                                                                                                                                                                                                                                                                 \n",
      "347    ciprofloxacin [sep] [user] cipro is real bad on your entire body! take it from me (on disability since '09 thanks to just 12 pills).                                                                                                                                                                                                                                                             \n",
      "351    paroxetine [sep] Hi, kitten, I'm a person with the same diagnosis, I've been taking paroxetine for a month and a half and I don't see any effect yet (your thread gave me hope). Do you think DRD affects perception? I'm afraid that I don't love my person because I don't feel what I did before the depression.                                                                              \n",
      "352    nicotine [sep] [user] count kum hai, can't avoid it being a nicotine addict. :/                                                                                                                                                                                                                                                                                                                  \n",
      "360    trazodone [sep] my trazodone be having me dream all types of crazy.                                                                                                                                                                                                                                                                                                                              \n",
      "Name: text, dtype: object\n"
     ]
    }
   ],
   "source": [
    "print(df[(df['language'].isin(['en', 'ru'])) & (df['label'] == 1)]['text'].iloc[10:20])"
   ]
  },
  {
   "cell_type": "code",
   "execution_count": 110,
   "id": "bde03563-37aa-4f53-a854-72e6ddf7bb0a",
   "metadata": {},
   "outputs": [],
   "source": [
    "df['has_drug_interaction'] = 0\n",
    "\n",
    "df.loc[df['text'].str.contains('has known drug interaction'), 'has_drug_interaction'] = 1\n",
    "\n",
    "df['has_multiple_drugs'] = 0\n",
    "\n",
    "df.loc[df['text'].str.contains(r'\\[drug\\]'), 'has_multiple_drugs'] = 1"
   ]
  },
  {
   "cell_type": "code",
   "execution_count": 111,
   "id": "818d51b5-4ae0-43b4-b1d3-576c0d901a60",
   "metadata": {},
   "outputs": [
    {
     "data": {
      "text/plain": [
       "0.07751724137931035"
      ]
     },
     "execution_count": 111,
     "metadata": {},
     "output_type": "execute_result"
    }
   ],
   "source": [
    "df_to_check = df[df['has_drug_interaction'] == 1]\n",
    "\n",
    "len(df_to_check[df_to_check['label'] == 1]) / len(df_to_check)"
   ]
  },
  {
   "cell_type": "code",
   "execution_count": 137,
   "id": "a05db37d-105e-416a-a91f-b1c68a47f54e",
   "metadata": {},
   "outputs": [
    {
     "data": {
      "text/html": [
       "<div>\n",
       "<style scoped>\n",
       "    .dataframe tbody tr th:only-of-type {\n",
       "        vertical-align: middle;\n",
       "    }\n",
       "\n",
       "    .dataframe tbody tr th {\n",
       "        vertical-align: top;\n",
       "    }\n",
       "\n",
       "    .dataframe thead th {\n",
       "        text-align: right;\n",
       "    }\n",
       "</style>\n",
       "<table border=\"1\" class=\"dataframe\">\n",
       "  <thead>\n",
       "    <tr style=\"text-align: right;\">\n",
       "      <th></th>\n",
       "      <th>has_drug_interaction</th>\n",
       "      <th>label</th>\n",
       "    </tr>\n",
       "  </thead>\n",
       "  <tbody>\n",
       "    <tr>\n",
       "      <th>has_drug_interaction</th>\n",
       "      <td>1.000000</td>\n",
       "      <td>-0.004773</td>\n",
       "    </tr>\n",
       "    <tr>\n",
       "      <th>label</th>\n",
       "      <td>-0.004773</td>\n",
       "      <td>1.000000</td>\n",
       "    </tr>\n",
       "  </tbody>\n",
       "</table>\n",
       "</div>"
      ],
      "text/plain": [
       "                      has_drug_interaction     label\n",
       "has_drug_interaction  1.000000             -0.004773\n",
       "label                -0.004773              1.000000"
      ]
     },
     "execution_count": 137,
     "metadata": {},
     "output_type": "execute_result"
    }
   ],
   "source": [
    "df[(df['has_multiple_drugs'] == 1)][['has_drug_interaction', 'label']].corr()"
   ]
  },
  {
   "cell_type": "code",
   "execution_count": 135,
   "id": "56bb5512-06f9-4091-a5bb-97d158c62061",
   "metadata": {},
   "outputs": [
    {
     "data": {
      "text/plain": [
       "0.3830837304288632"
      ]
     },
     "execution_count": 135,
     "metadata": {},
     "output_type": "execute_result"
    }
   ],
   "source": [
    "len(df[(df['has_multiple_drugs'] == 1) & (df['has_drug_interaction'] == 0)]) / len(df[df['has_multiple_drugs'] == 1])"
   ]
  },
  {
   "cell_type": "code",
   "execution_count": 139,
   "id": "4e53f057-c0f9-45ff-912b-18a1a3894c85",
   "metadata": {},
   "outputs": [
    {
     "data": {
      "text/plain": [
       "0     zopiclone [drug] quetiapine [sep] has known drug interaction [sep] 7.5mg zopiclone &amp; 50mg quetiapine - and still i'm awake!! fuck you brain!!                                                                       \n",
       "15    dutasteride [drug] finasteride [sep] has known drug interaction [sep] [user] my gp prescribes me finasteride too. i asked for dutasteride as it is more effective but too expensive                                     \n",
       "24    venlafaxine [drug] lamotrigine [sep] has known drug interaction [sep] [user] Yes, it is so frustrating. I'm already on the highest dose of Effexor and taking a relatively low dose of Lamictal.                        \n",
       "25    golimumab [drug] infliximab [drug] celecoxib [sep] has known drug interaction [sep] [user] Get some [user] and a heating pad. Celebrex is expensive, but it's the best NSAID. Simponi and Remicade are the best AntiTNFs\n",
       "31    dabigatran [drug] apixaban [drug] rivaroxaban [drug] warfarin [sep] has known drug interaction [sep] #UKSF13 dabigatran and rivaroxaban higher gi bleeds than warfarin. Apixaban prob fewer gi bleeds than other noses  \n",
       "38    trazodone [drug] melatonin [sep] has known drug interaction [sep] being an insomniac sucks. too late for trazodone or i'm gonna sleep all day... grr like i took 4 melatonin it dosnt even work!!!! #insomnia           \n",
       "50    infliximab [drug] adalimumab [sep] has known drug interaction [sep] [user] yea I'm on humira as well after 4 years of Remicade. Hope everything works out for you!!!                                                    \n",
       "54    gabapentin [drug] carbamazepine [sep] has known drug interaction [sep] [user] was on gabapentin but didn't help now on carbamazepine. How about you? Bet its a relief to be finally diagnosed.                          \n",
       "58    paroxetine [drug] alteplase [sep] has known drug interaction [sep] I was prescribed something really light because I'm really afraid of Paxil.                                                                          \n",
       "62    buspirone [drug] methylhexaneamine [drug] fluoxetine [drug] phenazepam [sep] has known drug interaction [sep] Pop a couple of dimethylamylamine pills, chew some Prozac, and chase it with buspirone or phenazepam.     \n",
       "Name: text, dtype: object"
      ]
     },
     "execution_count": 139,
     "metadata": {},
     "output_type": "execute_result"
    }
   ],
   "source": [
    "df[df['has_drug_interaction'] == 1]['text'].iloc[:10]"
   ]
  },
  {
   "cell_type": "code",
   "execution_count": 144,
   "id": "1c2e7198-2eb5-43f6-8026-1cc57d82c7b1",
   "metadata": {},
   "outputs": [
    {
     "data": {
      "text/html": [
       "<div>\n",
       "<style scoped>\n",
       "    .dataframe tbody tr th:only-of-type {\n",
       "        vertical-align: middle;\n",
       "    }\n",
       "\n",
       "    .dataframe tbody tr th {\n",
       "        vertical-align: top;\n",
       "    }\n",
       "\n",
       "    .dataframe thead th {\n",
       "        text-align: right;\n",
       "    }\n",
       "</style>\n",
       "<table border=\"1\" class=\"dataframe\">\n",
       "  <thead>\n",
       "    <tr style=\"text-align: right;\">\n",
       "      <th></th>\n",
       "      <th>id</th>\n",
       "      <th>predicted_label</th>\n",
       "      <th>text</th>\n",
       "      <th>label</th>\n",
       "    </tr>\n",
       "  </thead>\n",
       "  <tbody>\n",
       "    <tr>\n",
       "      <th>0</th>\n",
       "      <td>en_212</td>\n",
       "      <td>0</td>\n",
       "      <td>methionine [drug] adalimumab [sep] has known food interaction [sep] DO U ALWAYS TAKE UR MEDS ON TIME? DO U EVER STOP W/O ASKING UR DOCTOR? HERE ARE ALL THE RISKS ASSOCIATED WITH HUMIRA(tm)!! GOT ALL THAT?</td>\n",
       "      <td>0</td>\n",
       "    </tr>\n",
       "    <tr>\n",
       "      <th>1</th>\n",
       "      <td>ru_4003</td>\n",
       "      <td>0</td>\n",
       "      <td>This antiviral drug greatly reduces the likelihood of my children getting sick.</td>\n",
       "      <td>0</td>\n",
       "    </tr>\n",
       "    <tr>\n",
       "      <th>2</th>\n",
       "      <td>en_589</td>\n",
       "      <td>0</td>\n",
       "      <td>loperamide [sep] [user] just spoke to one source: Green Bay Area sold out of Imodium AD due to team food poisoning! They are guzzling the stuff!</td>\n",
       "      <td>0</td>\n",
       "    </tr>\n",
       "    <tr>\n",
       "      <th>3</th>\n",
       "      <td>ru_10539</td>\n",
       "      <td>0</td>\n",
       "      <td>alprazolam [sep] has known food interaction [sep] Another day started without Xanax (((</td>\n",
       "      <td>0</td>\n",
       "    </tr>\n",
       "    <tr>\n",
       "      <th>4</th>\n",
       "      <td>en_77</td>\n",
       "      <td>0</td>\n",
       "      <td>sildenafil [sep] has known food interaction [sep] [user] too bad buddy, Pfizer needs to sell some Sildenafil citrate</td>\n",
       "      <td>0</td>\n",
       "    </tr>\n",
       "  </tbody>\n",
       "</table>\n",
       "</div>"
      ],
      "text/plain": [
       "         id  predicted_label  \\\n",
       "0  en_212    0                 \n",
       "1  ru_4003   0                 \n",
       "2  en_589    0                 \n",
       "3  ru_10539  0                 \n",
       "4  en_77     0                 \n",
       "\n",
       "                                                                                                                                                                                                           text  \\\n",
       "0  methionine [drug] adalimumab [sep] has known food interaction [sep] DO U ALWAYS TAKE UR MEDS ON TIME? DO U EVER STOP W/O ASKING UR DOCTOR? HERE ARE ALL THE RISKS ASSOCIATED WITH HUMIRA(tm)!! GOT ALL THAT?   \n",
       "1  This antiviral drug greatly reduces the likelihood of my children getting sick.                                                                                                                                \n",
       "2  loperamide [sep] [user] just spoke to one source: Green Bay Area sold out of Imodium AD due to team food poisoning! They are guzzling the stuff!                                                               \n",
       "3  alprazolam [sep] has known food interaction [sep] Another day started without Xanax (((                                                                                                                        \n",
       "4  sildenafil [sep] has known food interaction [sep] [user] too bad buddy, Pfizer needs to sell some Sildenafil citrate                                                                                           \n",
       "\n",
       "   label  \n",
       "0  0      \n",
       "1  0      \n",
       "2  0      \n",
       "3  0      \n",
       "4  0      "
      ]
     },
     "execution_count": 144,
     "metadata": {},
     "output_type": "execute_result"
    }
   ],
   "source": [
    "model_name = 'cardiffnlp_twitter-roberta-large-topic-sentiment-latest_ds_preprocessed_translate_summarize2_with_food_interaction_lr-5e-06-max_len-150-9'\n",
    "result_path = f'../data/task1/result/{model_name}.csv'\n",
    "\n",
    "df = pd.read_csv(result_path)\n",
    "df.head()"
   ]
  },
  {
   "cell_type": "code",
   "execution_count": 147,
   "id": "962635b5-e848-4ac2-8d28-1e3a9a271320",
   "metadata": {},
   "outputs": [
    {
     "data": {
      "text/html": [
       "<div>\n",
       "<style scoped>\n",
       "    .dataframe tbody tr th:only-of-type {\n",
       "        vertical-align: middle;\n",
       "    }\n",
       "\n",
       "    .dataframe tbody tr th {\n",
       "        vertical-align: top;\n",
       "    }\n",
       "\n",
       "    .dataframe thead th {\n",
       "        text-align: right;\n",
       "    }\n",
       "</style>\n",
       "<table border=\"1\" class=\"dataframe\">\n",
       "  <thead>\n",
       "    <tr style=\"text-align: right;\">\n",
       "      <th></th>\n",
       "      <th>id</th>\n",
       "      <th>predicted_label</th>\n",
       "      <th>text</th>\n",
       "      <th>label</th>\n",
       "    </tr>\n",
       "  </thead>\n",
       "  <tbody>\n",
       "    <tr>\n",
       "      <th>816</th>\n",
       "      <td>ru_2737</td>\n",
       "      <td>0</td>\n",
       "      <td>And moreover, with the reverse action - it causes congestion and suffocation.</td>\n",
       "      <td>1</td>\n",
       "    </tr>\n",
       "    <tr>\n",
       "      <th>820</th>\n",
       "      <td>ru_5434</td>\n",
       "      <td>0</td>\n",
       "      <td>fluoxetine [sep] has known food interaction [sep] I feel Prozac will still make itself known, I've already started having arrhythmia lol )))</td>\n",
       "      <td>1</td>\n",
       "    </tr>\n",
       "    <tr>\n",
       "      <th>901</th>\n",
       "      <td>ru_11251</td>\n",
       "      <td>0</td>\n",
       "      <td>fluoxetine [sep] has known food interaction [sep] Instead of a pack of cigarettes, I bought two bars of chocolate. Now if I get overwhelmed, I'll eat chocolate:drooling_face:. I also want to get Fluoxetine:drooling_face: to be high and expand my comfort zone. I have problems with socializing IRL. I'll prescribe myself Fluoxetine sometime))</td>\n",
       "      <td>1</td>\n",
       "    </tr>\n",
       "    <tr>\n",
       "      <th>918</th>\n",
       "      <td>ru_9892</td>\n",
       "      <td>0</td>\n",
       "      <td>quetiapine [sep] has known food interaction [sep] There are tranquilizers, but they dull you. Neuroleptics don't; at first, they make you feel awful (but it's not dangerous), and then your sleep is fine, and they turn off emotions, which is also useful. In my case, Quetiapine.</td>\n",
       "      <td>1</td>\n",
       "    </tr>\n",
       "    <tr>\n",
       "      <th>982</th>\n",
       "      <td>ru_2310</td>\n",
       "      <td>0</td>\n",
       "      <td>meglumine [sep] I started to get sick with ARVI for the second time this fall and had to see a doctor. The doctor prescribed the usual: plenty of fluids, bed rest, symptomatic treatment, and suggested taking a course of Cycloferon, but did not provide a prescription. I bought Cycloferon without a prescription and followed the course, but did not notice any significant improvement. The treatment course was surprising, requiring four tablets at once, but despite following the instructions, I was sick for seven days. I cannot recommend Cycloferon as I am unsure if it helped, and it is not cheap to experiment with.</td>\n",
       "      <td>1</td>\n",
       "    </tr>\n",
       "    <tr>\n",
       "      <th>989</th>\n",
       "      <td>ru_8348</td>\n",
       "      <td>0</td>\n",
       "      <td>alprazolam [drug] phenazepam [sep] has known food interaction [sep] Well, Phenazepam knocks you out well, that's a fact. But for anxiety, alprazolam is the best I've tested. It's an amazing thing. Although the sleep from it is also good. Take a slightly larger dose before bed and you'll be out like a light.</td>\n",
       "      <td>1</td>\n",
       "    </tr>\n",
       "    <tr>\n",
       "      <th>1016</th>\n",
       "      <td>ru_418</td>\n",
       "      <td>0</td>\n",
       "      <td>In fact, this is the action of all tranquilizers, to slow down the mind and consciousness.</td>\n",
       "      <td>1</td>\n",
       "    </tr>\n",
       "    <tr>\n",
       "      <th>1043</th>\n",
       "      <td>de_566</td>\n",
       "      <td>0</td>\n",
       "      <td>sodium ascorbate [drug] potassium chloride [drug] sodium chloride [drug] ascorbic acid [drug] sodium sulfate [drug] polyethylene glycol [drug] midazolam [sep] has known food interaction [sep] In 2013, I had a colonoscopy with sedation using Dormicum, which kept me awake but free from anxiety and pain, allowing me to walk home alone afterward. The worst part for me is not being able to eat fiber, like psyllium, five days before the procedure, which I need to take twice daily to avoid constipation after my sclerotherapy. I currently have more fears and concerns than before, partly because the doctor wasn't particularly friendly, although he is experienced and scheduled me for a day when he can also do X-rays during the procedure due to adhesions and a long colon. I'm scheduled for 9:00 AM and need to take the first dose of PLENVU at 6:00 PM the day before and the second dose at 6:00 AM on the day of the procedure. I'm also worried about managing to get there due to the laxative, and if I don't cancel the procedure three days in advance, I'll have to pay a 100 Euro cancellation fee.</td>\n",
       "      <td>1</td>\n",
       "    </tr>\n",
       "    <tr>\n",
       "      <th>1117</th>\n",
       "      <td>ru_5319</td>\n",
       "      <td>0</td>\n",
       "      <td>metformin [sep] has known food interaction [sep] Oh Lord, well if \"not eating,\" then the result will be without metformin. In general, google \"insulin resistance\" and how to deal with it. That would be better than taking pills not prescribed by a doctor. By the way, metformin reduces B vitamins in the body, which few people know.</td>\n",
       "      <td>1</td>\n",
       "    </tr>\n",
       "    <tr>\n",
       "      <th>1155</th>\n",
       "      <td>fr_269</td>\n",
       "      <td>0</td>\n",
       "      <td>venlafaxine [drug] magnesium [drug] opipramol [sep] has known food interaction [sep] I only took Opripramol for two nights to sleep, at half the dose each time, so a very small dose. I felt like I had a lot more hot flashes. Now, they have returned to normal, meaning one per hour and they are bearable. Previously, there were up to four per hour and they were so intense that I felt like I was in an overly regulated sauna. My main antidepressant is venlafaxine, and I haven't changed the dosage.</td>\n",
       "      <td>1</td>\n",
       "    </tr>\n",
       "  </tbody>\n",
       "</table>\n",
       "</div>"
      ],
      "text/plain": [
       "            id  predicted_label  \\\n",
       "816   ru_2737   0                 \n",
       "820   ru_5434   0                 \n",
       "901   ru_11251  0                 \n",
       "918   ru_9892   0                 \n",
       "982   ru_2310   0                 \n",
       "989   ru_8348   0                 \n",
       "1016  ru_418    0                 \n",
       "1043  de_566    0                 \n",
       "1117  ru_5319   0                 \n",
       "1155  fr_269    0                 \n",
       "\n",
       "                                                                                                                                                                                                                                                                                                                                                                                                                                                                                                                                                                                                                                                                                                                                                                                                                                                                                                                                                                                                                                                                                                                                          text  \\\n",
       "816   And moreover, with the reverse action - it causes congestion and suffocation.                                                                                                                                                                                                                                                                                                                                                                                                                                                                                                                                                                                                                                                                                                                                                                                                                                                                                                                                                                                                                                                              \n",
       "820   fluoxetine [sep] has known food interaction [sep] I feel Prozac will still make itself known, I've already started having arrhythmia lol )))                                                                                                                                                                                                                                                                                                                                                                                                                                                                                                                                                                                                                                                                                                                                                                                                                                                                                                                                                                                               \n",
       "901   fluoxetine [sep] has known food interaction [sep] Instead of a pack of cigarettes, I bought two bars of chocolate. Now if I get overwhelmed, I'll eat chocolate:drooling_face:. I also want to get Fluoxetine:drooling_face: to be high and expand my comfort zone. I have problems with socializing IRL. I'll prescribe myself Fluoxetine sometime))                                                                                                                                                                                                                                                                                                                                                                                                                                                                                                                                                                                                                                                                                                                                                                                      \n",
       "918   quetiapine [sep] has known food interaction [sep] There are tranquilizers, but they dull you. Neuroleptics don't; at first, they make you feel awful (but it's not dangerous), and then your sleep is fine, and they turn off emotions, which is also useful. In my case, Quetiapine.                                                                                                                                                                                                                                                                                                                                                                                                                                                                                                                                                                                                                                                                                                                                                                                                                                                      \n",
       "982   meglumine [sep] I started to get sick with ARVI for the second time this fall and had to see a doctor. The doctor prescribed the usual: plenty of fluids, bed rest, symptomatic treatment, and suggested taking a course of Cycloferon, but did not provide a prescription. I bought Cycloferon without a prescription and followed the course, but did not notice any significant improvement. The treatment course was surprising, requiring four tablets at once, but despite following the instructions, I was sick for seven days. I cannot recommend Cycloferon as I am unsure if it helped, and it is not cheap to experiment with.                                                                                                                                                                                                                                                                                                                                                                                                                                                                                                 \n",
       "989   alprazolam [drug] phenazepam [sep] has known food interaction [sep] Well, Phenazepam knocks you out well, that's a fact. But for anxiety, alprazolam is the best I've tested. It's an amazing thing. Although the sleep from it is also good. Take a slightly larger dose before bed and you'll be out like a light.                                                                                                                                                                                                                                                                                                                                                                                                                                                                                                                                                                                                                                                                                                                                                                                                                       \n",
       "1016  In fact, this is the action of all tranquilizers, to slow down the mind and consciousness.                                                                                                                                                                                                                                                                                                                                                                                                                                                                                                                                                                                                                                                                                                                                                                                                                                                                                                                                                                                                                                                 \n",
       "1043  sodium ascorbate [drug] potassium chloride [drug] sodium chloride [drug] ascorbic acid [drug] sodium sulfate [drug] polyethylene glycol [drug] midazolam [sep] has known food interaction [sep] In 2013, I had a colonoscopy with sedation using Dormicum, which kept me awake but free from anxiety and pain, allowing me to walk home alone afterward. The worst part for me is not being able to eat fiber, like psyllium, five days before the procedure, which I need to take twice daily to avoid constipation after my sclerotherapy. I currently have more fears and concerns than before, partly because the doctor wasn't particularly friendly, although he is experienced and scheduled me for a day when he can also do X-rays during the procedure due to adhesions and a long colon. I'm scheduled for 9:00 AM and need to take the first dose of PLENVU at 6:00 PM the day before and the second dose at 6:00 AM on the day of the procedure. I'm also worried about managing to get there due to the laxative, and if I don't cancel the procedure three days in advance, I'll have to pay a 100 Euro cancellation fee.   \n",
       "1117  metformin [sep] has known food interaction [sep] Oh Lord, well if \"not eating,\" then the result will be without metformin. In general, google \"insulin resistance\" and how to deal with it. That would be better than taking pills not prescribed by a doctor. By the way, metformin reduces B vitamins in the body, which few people know.                                                                                                                                                                                                                                                                                                                                                                                                                                                                                                                                                                                                                                                                                                                                                                                                \n",
       "1155  venlafaxine [drug] magnesium [drug] opipramol [sep] has known food interaction [sep] I only took Opripramol for two nights to sleep, at half the dose each time, so a very small dose. I felt like I had a lot more hot flashes. Now, they have returned to normal, meaning one per hour and they are bearable. Previously, there were up to four per hour and they were so intense that I felt like I was in an overly regulated sauna. My main antidepressant is venlafaxine, and I haven't changed the dosage.                                                                                                                                                                                                                                                                                                                                                                                                                                                                                                                                                                                                                          \n",
       "\n",
       "      label  \n",
       "816   1      \n",
       "820   1      \n",
       "901   1      \n",
       "918   1      \n",
       "982   1      \n",
       "989   1      \n",
       "1016  1      \n",
       "1043  1      \n",
       "1117  1      \n",
       "1155  1      "
      ]
     },
     "execution_count": 147,
     "metadata": {},
     "output_type": "execute_result"
    }
   ],
   "source": [
    "df_fn = df[(df['label'] == 1) & (df['predicted_label'] == 0)]\n",
    "\n",
    "df_fn.iloc[20:30]"
   ]
  },
  {
   "cell_type": "code",
   "execution_count": 152,
   "id": "9702b3e1-feee-4808-b21b-bb6356ffc274",
   "metadata": {},
   "outputs": [
    {
     "data": {
      "text/html": [
       "<div>\n",
       "<style scoped>\n",
       "    .dataframe tbody tr th:only-of-type {\n",
       "        vertical-align: middle;\n",
       "    }\n",
       "\n",
       "    .dataframe tbody tr th {\n",
       "        vertical-align: top;\n",
       "    }\n",
       "\n",
       "    .dataframe thead th {\n",
       "        text-align: right;\n",
       "    }\n",
       "</style>\n",
       "<table border=\"1\" class=\"dataframe\">\n",
       "  <thead>\n",
       "    <tr style=\"text-align: right;\">\n",
       "      <th></th>\n",
       "      <th>id</th>\n",
       "      <th>predicted_label</th>\n",
       "      <th>text</th>\n",
       "      <th>label</th>\n",
       "    </tr>\n",
       "  </thead>\n",
       "  <tbody>\n",
       "    <tr>\n",
       "      <th>10</th>\n",
       "      <td>ru_6625</td>\n",
       "      <td>0</td>\n",
       "      <td>albuterol [drug] methionine [drug] ephedrine [sep] has known food interaction [sep] Why not inject them with beclometasone before the start? This completely eliminates the need for salbutamol, ephedrine, and other doping.</td>\n",
       "      <td>0</td>\n",
       "    </tr>\n",
       "  </tbody>\n",
       "</table>\n",
       "</div>"
      ],
      "text/plain": [
       "         id  predicted_label  \\\n",
       "10  ru_6625  0                 \n",
       "\n",
       "                                                                                                                                                                                                                             text  \\\n",
       "10  albuterol [drug] methionine [drug] ephedrine [sep] has known food interaction [sep] Why not inject them with beclometasone before the start? This completely eliminates the need for salbutamol, ephedrine, and other doping.   \n",
       "\n",
       "    label  \n",
       "10  0      "
      ]
     },
     "execution_count": 152,
     "metadata": {},
     "output_type": "execute_result"
    }
   ],
   "source": [
    "df[df['id'] == 'ru_6625']"
   ]
  },
  {
   "cell_type": "code",
   "execution_count": null,
   "id": "bf20b665-1c80-4118-a37d-f1ae9cb88393",
   "metadata": {},
   "outputs": [],
   "source": []
  }
 ],
 "metadata": {
  "kernelspec": {
   "display_name": "Python 3 (ipykernel)",
   "language": "python",
   "name": "python3"
  },
  "language_info": {
   "codemirror_mode": {
    "name": "ipython",
    "version": 3
   },
   "file_extension": ".py",
   "mimetype": "text/x-python",
   "name": "python",
   "nbconvert_exporter": "python",
   "pygments_lexer": "ipython3",
   "version": "3.12.9"
  }
 },
 "nbformat": 4,
 "nbformat_minor": 5
}
