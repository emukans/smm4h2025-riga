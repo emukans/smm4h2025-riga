{
 "cells": [
  {
   "cell_type": "code",
   "execution_count": 1,
   "id": "9809a47f-8a5c-4c83-9d6b-4785aefe3e52",
   "metadata": {},
   "outputs": [
    {
     "data": {
      "text/html": [
       "<div>\n",
       "<style scoped>\n",
       "    .dataframe tbody tr th:only-of-type {\n",
       "        vertical-align: middle;\n",
       "    }\n",
       "\n",
       "    .dataframe tbody tr th {\n",
       "        vertical-align: top;\n",
       "    }\n",
       "\n",
       "    .dataframe thead th {\n",
       "        text-align: right;\n",
       "    }\n",
       "</style>\n",
       "<table border=\"1\" class=\"dataframe\">\n",
       "  <thead>\n",
       "    <tr style=\"text-align: right;\">\n",
       "      <th></th>\n",
       "      <th>id</th>\n",
       "      <th>text</th>\n",
       "      <th>label</th>\n",
       "      <th>file_name</th>\n",
       "      <th>origin</th>\n",
       "      <th>type</th>\n",
       "      <th>language</th>\n",
       "      <th>split</th>\n",
       "      <th>prediction</th>\n",
       "    </tr>\n",
       "  </thead>\n",
       "  <tbody>\n",
       "    <tr>\n",
       "      <th>0</th>\n",
       "      <td>train_ru_5304</td>\n",
       "      <td>У меня в кармане пакетик оксикодона, и я не зн...</td>\n",
       "      <td>0</td>\n",
       "      <td>813645746079727617</td>\n",
       "      <td>RuDReC</td>\n",
       "      <td>tweet</td>\n",
       "      <td>ru</td>\n",
       "      <td>SMM4H_25_train</td>\n",
       "      <td>0</td>\n",
       "    </tr>\n",
       "    <tr>\n",
       "      <th>1</th>\n",
       "      <td>train_ru_10980</td>\n",
       "      <td>Жидкий понос вы, слава богу, не пьёте. Но, вы ...</td>\n",
       "      <td>0</td>\n",
       "      <td>1065460919256391680</td>\n",
       "      <td>RuDReC</td>\n",
       "      <td>tweet</td>\n",
       "      <td>ru</td>\n",
       "      <td>SMM4H_25_train</td>\n",
       "      <td>0</td>\n",
       "    </tr>\n",
       "    <tr>\n",
       "      <th>2</th>\n",
       "      <td>train_ru_3482</td>\n",
       "      <td>Но на 8 день онемели пальцы а сейчас начали ме...</td>\n",
       "      <td>1</td>\n",
       "      <td>3004353_2</td>\n",
       "      <td>RuDReC</td>\n",
       "      <td>sentence</td>\n",
       "      <td>ru</td>\n",
       "      <td>SMM4H_25_train</td>\n",
       "      <td>0</td>\n",
       "    </tr>\n",
       "    <tr>\n",
       "      <th>3</th>\n",
       "      <td>train_ru_12178</td>\n",
       "      <td>Чому Паксил так неохотно стали выписывать? :Р</td>\n",
       "      <td>0</td>\n",
       "      <td>1128303351131779072</td>\n",
       "      <td>RuDReC</td>\n",
       "      <td>tweet</td>\n",
       "      <td>ru</td>\n",
       "      <td>SMM4H_25_train</td>\n",
       "      <td>0</td>\n",
       "    </tr>\n",
       "    <tr>\n",
       "      <th>4</th>\n",
       "      <td>train_ru_3963</td>\n",
       "      <td>После приема препарата мне хочется спать.</td>\n",
       "      <td>1</td>\n",
       "      <td>2489974_10</td>\n",
       "      <td>RuDReC</td>\n",
       "      <td>sentence</td>\n",
       "      <td>ru</td>\n",
       "      <td>SMM4H_25_train</td>\n",
       "      <td>0</td>\n",
       "    </tr>\n",
       "  </tbody>\n",
       "</table>\n",
       "</div>"
      ],
      "text/plain": [
       "               id                                               text  label  \\\n",
       "0   train_ru_5304  У меня в кармане пакетик оксикодона, и я не зн...      0   \n",
       "1  train_ru_10980  Жидкий понос вы, слава богу, не пьёте. Но, вы ...      0   \n",
       "2   train_ru_3482  Но на 8 день онемели пальцы а сейчас начали ме...      1   \n",
       "3  train_ru_12178      Чому Паксил так неохотно стали выписывать? :Р      0   \n",
       "4   train_ru_3963          После приема препарата мне хочется спать.      1   \n",
       "\n",
       "             file_name  origin      type language           split  prediction  \n",
       "0   813645746079727617  RuDReC     tweet       ru  SMM4H_25_train           0  \n",
       "1  1065460919256391680  RuDReC     tweet       ru  SMM4H_25_train           0  \n",
       "2            3004353_2  RuDReC  sentence       ru  SMM4H_25_train           0  \n",
       "3  1128303351131779072  RuDReC     tweet       ru  SMM4H_25_train           0  \n",
       "4           2489974_10  RuDReC  sentence       ru  SMM4H_25_train           0  "
      ]
     },
     "execution_count": 1,
     "metadata": {},
     "output_type": "execute_result"
    }
   ],
   "source": [
    "import os\n",
    "import pandas as pd\n",
    "\n",
    "\n",
    "data_dir = '../data/task1'\n",
    "\n",
    "dev_df = pd.read_csv(os.path.join(data_dir, 'dev_result.csv'))\n",
    "test_df = pd.read_csv(os.path.join(data_dir, 'test_result.csv'))\n",
    "\n",
    "dev_df.head()"
   ]
  },
  {
   "cell_type": "code",
   "execution_count": 3,
   "id": "88ab25f6-395e-478a-9969-1f901dc8f1d1",
   "metadata": {},
   "outputs": [
    {
     "data": {
      "text/plain": [
       "0.939514129895885"
      ]
     },
     "execution_count": 3,
     "metadata": {},
     "output_type": "execute_result"
    }
   ],
   "source": [
    "len(dev_df[dev_df['label'] == dev_df['prediction']]) / len(dev_df)"
   ]
  },
  {
   "cell_type": "code",
   "execution_count": 4,
   "id": "54595f99-aa5f-4954-85ce-2b0a300142a6",
   "metadata": {},
   "outputs": [
    {
     "data": {
      "text/plain": [
       "0.9294245385450597"
      ]
     },
     "execution_count": 4,
     "metadata": {},
     "output_type": "execute_result"
    }
   ],
   "source": [
    "len(test_df[test_df['label'] == test_df['prediction']]) / len(test_df)"
   ]
  }
 ],
 "metadata": {
  "kernelspec": {
   "display_name": "Python 3 (ipykernel)",
   "language": "python",
   "name": "python3"
  },
  "language_info": {
   "codemirror_mode": {
    "name": "ipython",
    "version": 3
   },
   "file_extension": ".py",
   "mimetype": "text/x-python",
   "name": "python",
   "nbconvert_exporter": "python",
   "pygments_lexer": "ipython3",
   "version": "3.12.9"
  }
 },
 "nbformat": 4,
 "nbformat_minor": 5
}
