{
 "cells": [
  {
   "cell_type": "code",
   "execution_count": 1,
   "id": "7c5e0cd0-8b84-4b71-932a-3456c5895a08",
   "metadata": {},
   "outputs": [
    {
     "data": {
      "text/html": [
       "<div>\n",
       "<style scoped>\n",
       "    .dataframe tbody tr th:only-of-type {\n",
       "        vertical-align: middle;\n",
       "    }\n",
       "\n",
       "    .dataframe tbody tr th {\n",
       "        vertical-align: top;\n",
       "    }\n",
       "\n",
       "    .dataframe thead th {\n",
       "        text-align: right;\n",
       "    }\n",
       "</style>\n",
       "<table border=\"1\" class=\"dataframe\">\n",
       "  <thead>\n",
       "    <tr style=\"text-align: right;\">\n",
       "      <th></th>\n",
       "      <th>id</th>\n",
       "      <th>text</th>\n",
       "      <th>label</th>\n",
       "      <th>file_name</th>\n",
       "      <th>origin</th>\n",
       "      <th>type</th>\n",
       "      <th>language</th>\n",
       "      <th>split</th>\n",
       "    </tr>\n",
       "  </thead>\n",
       "  <tbody>\n",
       "    <tr>\n",
       "      <th>0</th>\n",
       "      <td>en_212</td>\n",
       "      <td>DO U ALWAYS TAKE UR MEDS ON TIME? DO U EVER ST...</td>\n",
       "      <td>0</td>\n",
       "      <td>247</td>\n",
       "      <td>previous_SMM4H</td>\n",
       "      <td>tweet</td>\n",
       "      <td>en</td>\n",
       "      <td>SMM4H_25_dev</td>\n",
       "    </tr>\n",
       "    <tr>\n",
       "      <th>1</th>\n",
       "      <td>ru_4003</td>\n",
       "      <td>Этот противовирусный препарат очень уменьшает ...</td>\n",
       "      <td>0</td>\n",
       "      <td>641480_11</td>\n",
       "      <td>RuDReC</td>\n",
       "      <td>sentence</td>\n",
       "      <td>ru</td>\n",
       "      <td>SMM4H_25_dev</td>\n",
       "    </tr>\n",
       "    <tr>\n",
       "      <th>2</th>\n",
       "      <td>en_589</td>\n",
       "      <td>@USER_ @USER___ just spoke to one source:  Gre...</td>\n",
       "      <td>0</td>\n",
       "      <td>655</td>\n",
       "      <td>previous_SMM4H</td>\n",
       "      <td>tweet</td>\n",
       "      <td>en</td>\n",
       "      <td>SMM4H_25_dev</td>\n",
       "    </tr>\n",
       "    <tr>\n",
       "      <th>3</th>\n",
       "      <td>ru_10539</td>\n",
       "      <td>Ещё один день начался не с ксанакса (((</td>\n",
       "      <td>0</td>\n",
       "      <td>823729794324041732</td>\n",
       "      <td>RuDReC</td>\n",
       "      <td>tweet</td>\n",
       "      <td>ru</td>\n",
       "      <td>SMM4H_25_dev</td>\n",
       "    </tr>\n",
       "    <tr>\n",
       "      <th>4</th>\n",
       "      <td>en_77</td>\n",
       "      <td>@USER__ too bad buddy, Pfizer needs to sell so...</td>\n",
       "      <td>0</td>\n",
       "      <td>660</td>\n",
       "      <td>previous_SMM4H</td>\n",
       "      <td>tweet</td>\n",
       "      <td>en</td>\n",
       "      <td>SMM4H_25_dev</td>\n",
       "    </tr>\n",
       "  </tbody>\n",
       "</table>\n",
       "</div>"
      ],
      "text/plain": [
       "         id                                               text  label  \\\n",
       "0    en_212  DO U ALWAYS TAKE UR MEDS ON TIME? DO U EVER ST...      0   \n",
       "1   ru_4003  Этот противовирусный препарат очень уменьшает ...      0   \n",
       "2    en_589  @USER_ @USER___ just spoke to one source:  Gre...      0   \n",
       "3  ru_10539            Ещё один день начался не с ксанакса (((      0   \n",
       "4     en_77  @USER__ too bad buddy, Pfizer needs to sell so...      0   \n",
       "\n",
       "            file_name          origin      type language         split  \n",
       "0                 247  previous_SMM4H     tweet       en  SMM4H_25_dev  \n",
       "1           641480_11          RuDReC  sentence       ru  SMM4H_25_dev  \n",
       "2                 655  previous_SMM4H     tweet       en  SMM4H_25_dev  \n",
       "3  823729794324041732          RuDReC     tweet       ru  SMM4H_25_dev  \n",
       "4                 660  previous_SMM4H     tweet       en  SMM4H_25_dev  "
      ]
     },
     "execution_count": 1,
     "metadata": {},
     "output_type": "execute_result"
    }
   ],
   "source": [
    "import os\n",
    "import pandas as pd\n",
    "\n",
    "\n",
    "data_dir = '../data/task1'\n",
    "\n",
    "dev_df = pd.read_csv(os.path.join(data_dir, 'dev.csv'))\n",
    "train_df = pd.read_csv(os.path.join(data_dir, 'train.csv'))\n",
    "\n",
    "dev_df.head()"
   ]
  },
  {
   "cell_type": "code",
   "execution_count": 2,
   "id": "5290a5cd-0f77-48f2-a8b6-fcd4dd0df849",
   "metadata": {},
   "outputs": [
    {
     "data": {
      "text/html": [
       "<div>\n",
       "<style scoped>\n",
       "    .dataframe tbody tr th:only-of-type {\n",
       "        vertical-align: middle;\n",
       "    }\n",
       "\n",
       "    .dataframe tbody tr th {\n",
       "        vertical-align: top;\n",
       "    }\n",
       "\n",
       "    .dataframe thead th {\n",
       "        text-align: right;\n",
       "    }\n",
       "</style>\n",
       "<table border=\"1\" class=\"dataframe\">\n",
       "  <thead>\n",
       "    <tr style=\"text-align: right;\">\n",
       "      <th></th>\n",
       "      <th>label</th>\n",
       "    </tr>\n",
       "  </thead>\n",
       "  <tbody>\n",
       "    <tr>\n",
       "      <th>count</th>\n",
       "      <td>4625.000000</td>\n",
       "    </tr>\n",
       "    <tr>\n",
       "      <th>mean</th>\n",
       "      <td>0.086054</td>\n",
       "    </tr>\n",
       "    <tr>\n",
       "      <th>std</th>\n",
       "      <td>0.280474</td>\n",
       "    </tr>\n",
       "    <tr>\n",
       "      <th>min</th>\n",
       "      <td>0.000000</td>\n",
       "    </tr>\n",
       "    <tr>\n",
       "      <th>25%</th>\n",
       "      <td>0.000000</td>\n",
       "    </tr>\n",
       "    <tr>\n",
       "      <th>50%</th>\n",
       "      <td>0.000000</td>\n",
       "    </tr>\n",
       "    <tr>\n",
       "      <th>75%</th>\n",
       "      <td>0.000000</td>\n",
       "    </tr>\n",
       "    <tr>\n",
       "      <th>max</th>\n",
       "      <td>1.000000</td>\n",
       "    </tr>\n",
       "  </tbody>\n",
       "</table>\n",
       "</div>"
      ],
      "text/plain": [
       "             label\n",
       "count  4625.000000\n",
       "mean      0.086054\n",
       "std       0.280474\n",
       "min       0.000000\n",
       "25%       0.000000\n",
       "50%       0.000000\n",
       "75%       0.000000\n",
       "max       1.000000"
      ]
     },
     "execution_count": 2,
     "metadata": {},
     "output_type": "execute_result"
    }
   ],
   "source": [
    "dev_df.describe()"
   ]
  },
  {
   "cell_type": "code",
   "execution_count": 3,
   "id": "3c876da0-7ddd-4b6c-a304-7a37524cf831",
   "metadata": {},
   "outputs": [
    {
     "data": {
      "text/html": [
       "<div>\n",
       "<style scoped>\n",
       "    .dataframe tbody tr th:only-of-type {\n",
       "        vertical-align: middle;\n",
       "    }\n",
       "\n",
       "    .dataframe tbody tr th {\n",
       "        vertical-align: top;\n",
       "    }\n",
       "\n",
       "    .dataframe thead th {\n",
       "        text-align: right;\n",
       "    }\n",
       "</style>\n",
       "<table border=\"1\" class=\"dataframe\">\n",
       "  <thead>\n",
       "    <tr style=\"text-align: right;\">\n",
       "      <th></th>\n",
       "      <th>label</th>\n",
       "    </tr>\n",
       "  </thead>\n",
       "  <tbody>\n",
       "    <tr>\n",
       "      <th>count</th>\n",
       "      <td>31187.000000</td>\n",
       "    </tr>\n",
       "    <tr>\n",
       "      <th>mean</th>\n",
       "      <td>0.078590</td>\n",
       "    </tr>\n",
       "    <tr>\n",
       "      <th>std</th>\n",
       "      <td>0.269103</td>\n",
       "    </tr>\n",
       "    <tr>\n",
       "      <th>min</th>\n",
       "      <td>0.000000</td>\n",
       "    </tr>\n",
       "    <tr>\n",
       "      <th>25%</th>\n",
       "      <td>0.000000</td>\n",
       "    </tr>\n",
       "    <tr>\n",
       "      <th>50%</th>\n",
       "      <td>0.000000</td>\n",
       "    </tr>\n",
       "    <tr>\n",
       "      <th>75%</th>\n",
       "      <td>0.000000</td>\n",
       "    </tr>\n",
       "    <tr>\n",
       "      <th>max</th>\n",
       "      <td>1.000000</td>\n",
       "    </tr>\n",
       "  </tbody>\n",
       "</table>\n",
       "</div>"
      ],
      "text/plain": [
       "              label\n",
       "count  31187.000000\n",
       "mean       0.078590\n",
       "std        0.269103\n",
       "min        0.000000\n",
       "25%        0.000000\n",
       "50%        0.000000\n",
       "75%        0.000000\n",
       "max        1.000000"
      ]
     },
     "execution_count": 3,
     "metadata": {},
     "output_type": "execute_result"
    }
   ],
   "source": [
    "train_df.describe()"
   ]
  },
  {
   "cell_type": "code",
   "execution_count": 4,
   "id": "ab2a6db8-ab66-40ff-9ad0-6da040624b92",
   "metadata": {},
   "outputs": [
    {
     "name": "stdout",
     "output_type": "stream",
     "text": [
      "Dev total positive:\n"
     ]
    },
    {
     "data": {
      "text/plain": [
       "0.08605405405405406"
      ]
     },
     "execution_count": 4,
     "metadata": {},
     "output_type": "execute_result"
    }
   ],
   "source": [
    "print('Dev total positive:')\n",
    "len(dev_df[dev_df['label'] == 1]) / len(dev_df)"
   ]
  },
  {
   "cell_type": "code",
   "execution_count": 5,
   "id": "71a7adec-5f81-40af-a994-16761e85cb85",
   "metadata": {},
   "outputs": [
    {
     "name": "stdout",
     "output_type": "stream",
     "text": [
      "Train total positive:\n"
     ]
    },
    {
     "data": {
      "text/plain": [
       "0.0785904383236605"
      ]
     },
     "execution_count": 5,
     "metadata": {},
     "output_type": "execute_result"
    }
   ],
   "source": [
    "print('Train total positive:')\n",
    "len(train_df[train_df['label'] == 1]) / len(train_df)"
   ]
  },
  {
   "cell_type": "code",
   "execution_count": 6,
   "id": "bf6d23ea-d6d9-4196-984d-f01563da1bef",
   "metadata": {},
   "outputs": [
    {
     "name": "stdout",
     "output_type": "stream",
     "text": [
      "Dev label by language\n"
     ]
    },
    {
     "data": {
      "text/plain": [
       "label  language\n",
       "0      ru          0.518486\n",
       "       en          0.181838\n",
       "       de          0.129514\n",
       "       fr          0.084108\n",
       "1      ru          0.058811\n",
       "       en          0.013189\n",
       "       de          0.007568\n",
       "       fr          0.006486\n",
       "Name: count, dtype: float64"
      ]
     },
     "execution_count": 6,
     "metadata": {},
     "output_type": "execute_result"
    }
   ],
   "source": [
    "print('Dev label by language')\n",
    "dev_df.groupby('label')['language'].value_counts() / len(dev_df)"
   ]
  },
  {
   "cell_type": "code",
   "execution_count": 7,
   "id": "ca477632-969d-4c39-9f21-61e6760c95f1",
   "metadata": {},
   "outputs": [
    {
     "name": "stdout",
     "output_type": "stream",
     "text": [
      "Train label by language\n"
     ]
    },
    {
     "data": {
      "text/plain": [
       "label  language\n",
       "0      en          0.537403\n",
       "       ru          0.310065\n",
       "       de          0.044858\n",
       "       fr          0.029083\n",
       "1      en          0.038926\n",
       "       ru          0.034758\n",
       "       de          0.002661\n",
       "       fr          0.002245\n",
       "Name: count, dtype: float64"
      ]
     },
     "execution_count": 7,
     "metadata": {},
     "output_type": "execute_result"
    }
   ],
   "source": [
    "print('Train label by language')\n",
    "train_df.groupby('label')['language'].value_counts() / len(train_df)"
   ]
  },
  {
   "cell_type": "code",
   "execution_count": 8,
   "id": "0fafd2ef-3ba4-4269-902a-f329637e4bbf",
   "metadata": {},
   "outputs": [],
   "source": [
    "# Train and dev dataset have different representation by language. RU is less represented on train subset"
   ]
  },
  {
   "cell_type": "code",
   "execution_count": 9,
   "id": "ce9339fc-4ba7-467b-b7a6-878c2f538754",
   "metadata": {},
   "outputs": [
    {
     "name": "stdout",
     "output_type": "stream",
     "text": [
      "Dev positive by language:\n",
      "en 0.06762749445676275\n",
      "ru 0.10187265917602996\n",
      "de 0.055205047318611984\n",
      "fr 0.07159904534606205\n"
     ]
    }
   ],
   "source": [
    "print('Dev positive by language:')\n",
    "\n",
    "for lang in dev_df['language'].unique():\n",
    "    print(lang, len(dev_df[(dev_df['label'] == 1) & (dev_df['language'] == lang)]) / len(dev_df[(dev_df['language'] == lang)]))\n"
   ]
  },
  {
   "cell_type": "code",
   "execution_count": 10,
   "id": "cf7932e4-bafa-455f-b99b-ef6f86c42382",
   "metadata": {},
   "outputs": [
    {
     "name": "stdout",
     "output_type": "stream",
     "text": [
      "Train positive by language:\n",
      "en 0.0675420051185045\n",
      "ru 0.10079970243630278\n",
      "fr 0.07164790174002048\n",
      "de 0.05600539811066127\n"
     ]
    }
   ],
   "source": [
    "print('Train positive by language:')\n",
    "\n",
    "for lang in train_df['language'].unique():\n",
    "    print(lang, len(train_df[(train_df['label'] == 1) & (train_df['language'] == lang)]) / len(train_df[(train_df['language'] == lang)]))\n"
   ]
  },
  {
   "cell_type": "code",
   "execution_count": 11,
   "id": "5a1ac9c2-2331-4a3c-a512-53bec21af72f",
   "metadata": {},
   "outputs": [
    {
     "name": "stdout",
     "output_type": "stream",
     "text": [
      "Dev label by type\n"
     ]
    },
    {
     "data": {
      "text/plain": [
       "label  type      \n",
       "0      tweet         0.502054\n",
       "       forum post    0.213622\n",
       "       sentence      0.185730\n",
       "       review        0.012541\n",
       "1      tweet         0.046703\n",
       "       sentence      0.016432\n",
       "       forum post    0.014054\n",
       "       review        0.008865\n",
       "Name: count, dtype: float64"
      ]
     },
     "execution_count": 11,
     "metadata": {},
     "output_type": "execute_result"
    }
   ],
   "source": [
    "print('Dev label by type')\n",
    "dev_df.groupby('label')['type'].value_counts() / len(dev_df)"
   ]
  },
  {
   "cell_type": "code",
   "execution_count": 12,
   "id": "d7563a99-6e60-45da-bf2f-2c9115cbb7c3",
   "metadata": {},
   "outputs": [
    {
     "name": "stdout",
     "output_type": "stream",
     "text": [
      "Train label by type\n"
     ]
    },
    {
     "data": {
      "text/plain": [
       "label  type      \n",
       "0      tweet         0.727515\n",
       "       sentence      0.112451\n",
       "       forum post    0.073941\n",
       "       review        0.007503\n",
       "1      tweet         0.058742\n",
       "       sentence      0.009716\n",
       "       review        0.005227\n",
       "       forum post    0.004906\n",
       "Name: count, dtype: float64"
      ]
     },
     "execution_count": 12,
     "metadata": {},
     "output_type": "execute_result"
    }
   ],
   "source": [
    "print('Train label by type')\n",
    "train_df.groupby('label')['type'].value_counts() / len(train_df)"
   ]
  },
  {
   "cell_type": "code",
   "execution_count": 13,
   "id": "e8882c68-48b4-4981-9beb-386d941e87fe",
   "metadata": {},
   "outputs": [
    {
     "name": "stdout",
     "output_type": "stream",
     "text": [
      "Dev language by type\n"
     ]
    },
    {
     "data": {
      "text/plain": [
       "language  type      \n",
       "de        forum post    0.137081\n",
       "en        tweet         0.195027\n",
       "fr        forum post    0.090595\n",
       "ru        tweet         0.353730\n",
       "          sentence      0.202162\n",
       "          review        0.021405\n",
       "Name: count, dtype: float64"
      ]
     },
     "execution_count": 13,
     "metadata": {},
     "output_type": "execute_result"
    }
   ],
   "source": [
    "print('Dev language by type')\n",
    "dev_df.groupby('language')['type'].value_counts() / len(dev_df)"
   ]
  },
  {
   "cell_type": "code",
   "execution_count": 14,
   "id": "28ca1a57-50e8-445d-b060-b6d81f200e35",
   "metadata": {},
   "outputs": [
    {
     "name": "stdout",
     "output_type": "stream",
     "text": [
      "Train language by type\n"
     ]
    },
    {
     "data": {
      "text/plain": [
       "language  type      \n",
       "de        forum post    0.047520\n",
       "en        tweet         0.576330\n",
       "fr        forum post    0.031327\n",
       "ru        tweet         0.209927\n",
       "          sentence      0.122166\n",
       "          review        0.012730\n",
       "Name: count, dtype: float64"
      ]
     },
     "execution_count": 14,
     "metadata": {},
     "output_type": "execute_result"
    }
   ],
   "source": [
    "print('Train language by type')\n",
    "train_df.groupby('language')['type'].value_counts() / len(train_df)"
   ]
  },
  {
   "cell_type": "code",
   "execution_count": null,
   "id": "c993a711-ed51-435f-8fb8-f07bdd5f3027",
   "metadata": {},
   "outputs": [],
   "source": []
  },
  {
   "cell_type": "code",
   "execution_count": null,
   "id": "61f0807a-0b5d-4951-9e39-807f09a4be4a",
   "metadata": {},
   "outputs": [],
   "source": []
  },
  {
   "cell_type": "code",
   "execution_count": 15,
   "id": "cdf1ad92-65fd-49ad-8e33-d8ef2891094e",
   "metadata": {},
   "outputs": [
    {
     "name": "stdout",
     "output_type": "stream",
     "text": [
      "Dev origin by type\n"
     ]
    },
    {
     "data": {
      "text/plain": [
       "origin                type      \n",
       "LREC2022              forum post    0.194162\n",
       "RuDReC                tweet         0.353730\n",
       "                      sentence      0.202162\n",
       "                      review        0.021405\n",
       "SMM4H_24_de_dev       forum post    0.001514\n",
       "SMM4H_24_de_test      forum post    0.002162\n",
       "SMM4H_24_de_train     forum post    0.003892\n",
       "SMM4H_24_fr_few_shot  forum post    0.000216\n",
       "SMM4H_24_fr_test      forum post    0.006270\n",
       "previous_SMM4H        tweet         0.195027\n",
       "v2_2001_3000          forum post    0.009514\n",
       "v2_3001_4000          forum post    0.009946\n",
       "Name: count, dtype: float64"
      ]
     },
     "execution_count": 15,
     "metadata": {},
     "output_type": "execute_result"
    }
   ],
   "source": [
    "print('Dev origin by type')\n",
    "dev_df.groupby('origin')['type'].value_counts() / len(dev_df)"
   ]
  },
  {
   "cell_type": "code",
   "execution_count": 16,
   "id": "e0e3dbca-51d2-4bf7-a8df-6ae59bbcfbfe",
   "metadata": {},
   "outputs": [
    {
     "name": "stdout",
     "output_type": "stream",
     "text": [
      "Train origin by type\n"
     ]
    },
    {
     "data": {
      "text/plain": [
       "origin                type      \n",
       "LREC2022              forum post    0.067464\n",
       "RuDReC                tweet         0.209927\n",
       "                      sentence      0.122166\n",
       "                      review        0.012730\n",
       "SMM4H_24_de_dev       forum post    0.000513\n",
       "SMM4H_24_de_test      forum post    0.000481\n",
       "SMM4H_24_de_train     forum post    0.001667\n",
       "SMM4H_24_fr_few_shot  forum post    0.000096\n",
       "SMM4H_24_fr_test      forum post    0.002148\n",
       "previous_SMM4H        tweet         0.576330\n",
       "v2_2001_3000          forum post    0.003174\n",
       "v2_3001_4000          forum post    0.003303\n",
       "Name: count, dtype: float64"
      ]
     },
     "execution_count": 16,
     "metadata": {},
     "output_type": "execute_result"
    }
   ],
   "source": [
    "print('Train origin by type')\n",
    "train_df.groupby('origin')['type'].value_counts() / len(train_df)"
   ]
  },
  {
   "cell_type": "code",
   "execution_count": 21,
   "id": "52f50077-09b6-4eef-9f32-4f67bc98a422",
   "metadata": {},
   "outputs": [
    {
     "data": {
      "text/plain": [
       "type\n",
       "forum post    102.766165\n",
       "review        113.256927\n",
       "sentence       11.765092\n",
       "tweet          16.878594\n",
       "Name: word_count, dtype: float64"
      ]
     },
     "execution_count": 21,
     "metadata": {},
     "output_type": "execute_result"
    }
   ],
   "source": [
    "train_df.groupby('type')['word_count'].mean()"
   ]
  },
  {
   "cell_type": "code",
   "execution_count": 22,
   "id": "07af16ce-3801-43cd-b1f8-08ac5aa06e3b",
   "metadata": {},
   "outputs": [
    {
     "data": {
      "text/plain": [
       "type\n",
       "forum post    620.343229\n",
       "review        742.682620\n",
       "sentence       76.144357\n",
       "tweet         105.251009\n",
       "Name: text_len, dtype: float64"
      ]
     },
     "execution_count": 22,
     "metadata": {},
     "output_type": "execute_result"
    }
   ],
   "source": [
    "train_df.groupby('type')['text_len'].mean()"
   ]
  },
  {
   "cell_type": "code",
   "execution_count": 17,
   "id": "e2a5885b-0c7a-4f48-a44e-8862f184a078",
   "metadata": {},
   "outputs": [],
   "source": [
    "dev_df['text_len'] = dev_df['text'].apply(lambda x: len(x))\n",
    "dev_df['word_count'] = dev_df['text'].apply(lambda x: len(x.split()))\n",
    "\n",
    "train_df['text_len'] = train_df['text'].apply(lambda x: len(x))\n",
    "train_df['word_count'] = train_df['text'].apply(lambda x: len(x.split()))"
   ]
  },
  {
   "cell_type": "code",
   "execution_count": 23,
   "id": "c1e24be9-64fb-4c85-b48d-0384a20946d6",
   "metadata": {},
   "outputs": [
    {
     "name": "stdout",
     "output_type": "stream",
     "text": [
      "Train type by word_count\n"
     ]
    },
    {
     "data": {
      "text/plain": [
       "<Axes: xlabel='word_count', ylabel='Count'>"
      ]
     },
     "execution_count": 23,
     "metadata": {},
     "output_type": "execute_result"
    },
    {
     "data": {
      "image/png": "[encoded data removed]",
      "text/plain": [
       "<Figure size 640x480 with 1 Axes>"
      ]
     },
     "metadata": {},
     "output_type": "display_data"
    }
   ],
   "source": [
    "import seaborn as sns\n",
    "\n",
    "\n",
    "print('Train type by word_count')\n",
    "\n",
    "sns.histplot(train_df[train_df['type'] == 'forum post'], x='word_count', hue='type')"
   ]
  },
  {
   "cell_type": "code",
   "execution_count": 19,
   "id": "21ff061f-cce5-41a2-bf58-0fce3cde7fb2",
   "metadata": {},
   "outputs": [
    {
     "data": {
      "text/plain": [
       "['Здравствуйте, дорогие читатели и посетители сайта Отзовик! Сегодня я хочу поделиться с вами отзывом о противовирусном средстве, которое производит Фармацевтическая фабрика Украина, Оксолиновая мазь. Я очень часто болею простудными заболеваниями, поэтому покупаю разные противовирусные средства. По рекомендации врача купила оксолиновую мазь и очень довольна ею. Мазь имеет удобную упаковку, с широкой крышечкой, которая плотно закрывается, густую консистенцию, я использую ее ватной палочкой. Мазь нужно закладывать в каждую ноздрю на несколько часов, но обычно через минут 15-20 начинаются сильные выделения из носа и приходится его очищать. При обострении пользуюсь мазью 2 раза в день. С ее помощью насморк быстрее проходит. Рекомендую всем, кто имеет подобные проблемы использовать оксолиновую мазь. Как всегда желаю вам не болеть. Спасибо за внимание к моему отзыву. Время использования: много раз',\n",
       " 'Доброго времени суток всем читателям сайта \"Отзовик\") С герпесом хотя бы раз сталкивались практически все, даже если кто-то считает, что у них была просто \"простуда на губах\", я их огорчу - это был герпес. Вылечиться всегда хочется быстро. Вот и я решила в очередной раз попробовать крем для наружного применения Фенистил Пенцивир. В аптеке рассказывали, что это противовирусный препарат нового поколения, и поможет мне буквально за сутки, чуть ли не за одно применение. Мазала я им болячку, как и простым ацикловиром, часто, раз пять-семь в день. Результат тоже был как и от ацикловира, чего-то сверхъестественного не заметила, герпес длился, как обычно, четыре дня, потом попустило. За что я заплатила кучу денег, до сих пор не понимаю.',\n",
       " 'У меня или особенность организма такая, или сказывается нехватка витаминов, но весной я болею простудой чаще, чем в любое другое время года. Поэтому и готовлюсь заранее. Запасаюсь и таблетками, у меня уже есть хорошее средство от гриппа и ОРВИ, проверенное с прошлого года. Его зовут - противовирусные таблетки для рассасывания Эргоферон. Этим средством мы лечились всей семьей. И на этот год я не раздумывая приобрела необходимое количество \"Эргоферона\". Схема приема этих таблеток такая: сначала через каждые полчаса, затем через четыре часа и, затем по три таблетки в день. В прошлом году я приняла трехдневный курс лечения \"Эргофероном\" и полностью вылечилась. Таблетки \"Эргоферона\" кроме лечебного эффекта, являются отличным профилактическим средством. И не только от вирусов гриппа, но и герпеса. По показаниям помогает и при кишечных инфекциях, менингите. Препарат \"Эргоферон\" эффективен, но и цена приличная. Зато гарантия почти 100 %. Будьте здоровы. Общее впечатление : Удобно и эффективно, особенно весной RATING 4 NOTE',\n",
       " 'В нашей жизни очень много стрессов, учеба, работа, отношения, семья, дети, бывает всякое и как иногда хочется расслабиться и не нервничать. Первый раз я попробовала эти таблетки когда училась в школе, класс восьмой был. Мама купила и сказал что это чудо таблетки, которые улучшают мозговую деятельность, и так же успокаивают нервы. Пила я из пила, и что ого сказать, на вкус приятно, быстро растворяются, но делают ли что то, я так и не заметила. Второй раз я пробовала их во время сессии, надеялась что помогут справится с волнением, ну и конечно что на улучшение деятельности мозга, во время экзаменов, это как никогда кстати. Пила пила и ничего опять. Больше я их не беру, на вкус ничего, а вот действия нет Общее впечатление : Не подействовали RATING 3 NOTE',\n",
       " 'Дочке чуть больше годика, пошли в ясли. И тут начались проблемы да еще какие!!! За первую неделю в яслях характер, мягко говоря, испортился. Стала нервной, капризной, чуть что -сразу визг, к бабушкам и дедушкам не идет, все рядом со мной да на ручках... Тяжело( А ведь перед яслями это был активный, общительный и жизнерадостный малыш... Врачи посоветовали попить успокоительное. Предложили на выбор- валерьянка, пустырник и тенотен. С тенотеном я знакома уже давно, поэтому выбрала его. После недельного приема дочурка легче стала оставаться в саду, и хоть мы все равно еще плачем там, процесс привыкания идет немного легче. Очень радует то, что таблетки не горькие, я растворяю их в воде и дочка без проблем их пьет не запивая водой. В общем, приятные во всех отношениях таблеточки, но все же помните, что нужно проконсультироваться с врачом.',\n",
       " 'Этой зимой, у моего малыша резались зубки и с высокой температурой, которая ничем не сбивалась, загремели в больницу. В приёмной, сразу же ребёнку укололи жаропонижающее и отправили спать. На утро, ребёнок проснулся весь горячий, кричал, температура была 38. Пожаловавшись медсестре, и попросив что нибудь от температуры, она мне дала свечку Виферон. Я на радостях побежала и поставила её малышу, считала буквально каждую минуту, ожидая, когда же малышу будет легче. Но температура не спадала, сделали укол, стало лучше. Пока проводилось лечение Вифероном, результата не ощущалось, как только врач назначил другое лекарство, улучшение наступило очень быстро. Общее впечатление : Совершенно непонятный препарат',\n",
       " 'Пегасис-это противовирусный препарат, который помогает избавляться от различных вирусов, в том числе и гепатита C который до недавнего времени считался неизлечимым. Знаю лично людей, которые лечились этим препаратом и успешно избавились от гепатита с. Чтобы лечение было эффективным к этому лекарству еще назначают таблетки рибавирин. Их нужно употреблять в сочетании с инъекциями пегасиса, которые делают один укол в неделю. Очень большим недостатком является сильные серьезные побочные эффекты. Это и ломота в суставах и температура а также депрессивное состояние, которое может быть все то время пока длится лечение. На сегодняшний день существуют конечные и более лучшие препараты, однако их цена довольно дорогая, которая не по карману простым людям.',\n",
       " 'Как то в последнее время стала замечать, что нервничаю много, срываюсь на всех, ночью мучает бессонница. Раздражают все и вся. Вот и насмотревшись рекламы купила себе Афобазол, успокоительное последнего времени. Принимала это средство всего 3 дня, эффект ужасный. Стало не то, что лучше и спокойней, а наоборот все бесило. Все эти 3 дня чувствовала головокружения и слабость, пропал аппетит. И вообще пропало желание спать. Появились круги под глазами. Не хотелось никуда ходить, краситься и даже одеваться. Через 3 дня я решила, что пора это превращать и лучше употреблять проверенную и дешевую валерьянку. И жизнь стала налаживаться. Я не хочу сказать, что это плохое средство, но мне оно категорически противопоказано. И так и лежит начатая пачка дома. Время использования: 3 дня',\n",
       " 'Первый раз мой ребенок заболел где то в месяцев 8, температура, насморк, кашель. Вызвали врача, прописала ряд лекарств и посоветовала купить свечи Виферон. Мы конечно все купили. После применения данных свечей, у ребенка начался понос!!!! Многие могут сказать, да это может от чего угодно, от других лекарств и все в этом духе. На следующий день опять вставила свечку, и та же история - понос!!! Больше экспериментировать я не стала. Через какое то время, где то месяца через 2-3, ребенку надо было делать прививку, и часто болеющим детям прописываю свечи Виферона для укрепления иммунитета, и что бы прививочный период прошел хорошо. Купила опять свечи, за 2 дня до прививки начала применять, и опять та же история, выставляю, - через короткое время понос. Врачи мне не поверили, говорили такого нет. Я вызвала врача на дом и перед ней вставила свечку, случилось что и должно - понос. И после этого она сказала что у ребенка аллергия на компоненты данного лекарства. Так что пьем перед прививками только Анаферон, который отлично справляется со своей работой. Общее впечатление : все индивилуально!',\n",
       " 'Так уж случилось в моей жизни, что я постоянно живу на стрессах... А они, как правило, просто так, бесследно не проходят... Стало у меня часто сердечко пошаливать и со сном проблемы начались. У папы в холодильнике всегда стоит Корвалдин, он часто мучается бессонницей, решила и я попробовать это лекарство, чтобы сердечко не болело и сон нормализовался. Начальная доза Корвалдина составляет 15 капель. С неё я и начала. Сердечко стало меньше колоть и уснула быстро. так я принимала препарат по мере ухудшения моего состояния. Но вот заметила одну странную вещь: утром после этого препарата у меня отекают верхние веки на глазах, и жутко тяжелая голова. К тому же, если его часто принимать, возникает привыкание. Я начинала с 15 капель, а потом пришлось пить уже 20 и больше... Мне такой эффект совсем не по душе. Не рекомендую данный препарат людям, страдающим невралгией сердца и бессонницей.']"
      ]
     },
     "execution_count": 19,
     "metadata": {},
     "output_type": "execute_result"
    }
   ],
   "source": [
    "list(dev_df[dev_df['type'] == 'review']['text'].iloc[:10])"
   ]
  },
  {
   "cell_type": "code",
   "execution_count": 20,
   "id": "9c591fe0-2713-421f-a0e5-a044f90d69b8",
   "metadata": {},
   "outputs": [],
   "source": [
    "# os.makedirs('../data/task1/dev/plain', exist_ok=True)\n",
    "# os.makedirs('../data/task1/train/plain', exist_ok=True)\n",
    "\n"
   ]
  },
  {
   "cell_type": "code",
   "execution_count": 21,
   "id": "7820e255-c5fd-4402-a892-e4acc91fe57d",
   "metadata": {},
   "outputs": [],
   "source": [
    "# dev_df[dev_df['label'] == 1]['text'].to_csv('../data/task1/dev/plain/positive.csv', index=False, header=False)\n",
    "# dev_df[dev_df['label'] == 0]['text'].to_csv('../data/task1/dev/plain/negative.csv', index=False, header=False)\n",
    "\n",
    "# train_df[train_df['label'] == 1]['text'].to_csv('../data/task1/train/plain/positive.csv', index=False, header=False)\n",
    "# train_df[train_df['label'] == 0]['text'].to_csv('../data/task1/train/plain/negative.csv', index=False, header=False)"
   ]
  },
  {
   "cell_type": "code",
   "execution_count": 26,
   "id": "7d8dbb28-c9ea-4801-b0eb-291f54c68051",
   "metadata": {},
   "outputs": [],
   "source": [
    "from sklearn.model_selection import train_test_split\n",
    "\n",
    "train_df, val_df = train_test_split(train_df, test_size=0.2)"
   ]
  },
  {
   "cell_type": "code",
   "execution_count": 37,
   "id": "313d470f-fc37-48c4-885b-1c90a0bf712e",
   "metadata": {},
   "outputs": [
    {
     "data": {
      "text/plain": [
       "DatasetDict({\n",
       "    train: Dataset({\n",
       "        features: ['id', 'text', 'label', 'file_name', 'origin', 'type', 'language', 'split', 'text_len', 'word_count'],\n",
       "        num_rows: 24949\n",
       "    })\n",
       "    dev: Dataset({\n",
       "        features: ['id', 'text', 'label', 'file_name', 'origin', 'type', 'language', 'split', 'text_len', 'word_count'],\n",
       "        num_rows: 6238\n",
       "    })\n",
       "    test: Dataset({\n",
       "        features: ['id', 'text', 'label', 'file_name', 'origin', 'type', 'language', 'split', 'text_len', 'word_count'],\n",
       "        num_rows: 4625\n",
       "    })\n",
       "})"
      ]
     },
     "execution_count": 37,
     "metadata": {},
     "output_type": "execute_result"
    }
   ],
   "source": [
    "from datasets import Dataset, DatasetDict\n",
    "\n",
    "\n",
    "dataset = DatasetDict({\n",
    "    'train': Dataset.from_pandas(train_df, preserve_index=False),\n",
    "    'dev': Dataset.from_pandas(val_df, preserve_index=False),\n",
    "    'test': Dataset.from_pandas(dev_df)\n",
    "})\n",
    "\n",
    "dataset"
   ]
  },
  {
   "cell_type": "code",
   "execution_count": 39,
   "id": "f03e1260-a695-4a90-b323-8620031bdf59",
   "metadata": {},
   "outputs": [
    {
     "name": "stderr",
     "output_type": "stream",
     "text": [
      "Saving the dataset (1/1 shards): 100%|███████████████████████████████████████████████████████████████████████████████████████████████████████████████████| 24949/24949 [00:00<00:00, 1779140.22 examples/s]\n",
      "Saving the dataset (1/1 shards): 100%|█████████████████████████████████████████████████████████████████████████████████████████████████████████████████████| 6238/6238 [00:00<00:00, 1207944.06 examples/s]\n",
      "Saving the dataset (1/1 shards): 100%|█████████████████████████████████████████████████████████████████████████████████████████████████████████████████████| 4625/4625 [00:00<00:00, 1035865.65 examples/s]\n"
     ]
    }
   ],
   "source": [
    "dataset.save_to_disk('../data/task1/plain_ds_preprocessed')"
   ]
  },
  {
   "cell_type": "code",
   "execution_count": 29,
   "id": "ba98a7db-cd5d-4507-95b1-2dd44f808756",
   "metadata": {},
   "outputs": [
    {
     "data": {
      "text/html": [
       "<div>\n",
       "<style scoped>\n",
       "    .dataframe tbody tr th:only-of-type {\n",
       "        vertical-align: middle;\n",
       "    }\n",
       "\n",
       "    .dataframe tbody tr th {\n",
       "        vertical-align: top;\n",
       "    }\n",
       "\n",
       "    .dataframe thead th {\n",
       "        text-align: right;\n",
       "    }\n",
       "</style>\n",
       "<table border=\"1\" class=\"dataframe\">\n",
       "  <thead>\n",
       "    <tr style=\"text-align: right;\">\n",
       "      <th></th>\n",
       "      <th>id</th>\n",
       "      <th>text</th>\n",
       "      <th>label</th>\n",
       "      <th>file_name</th>\n",
       "      <th>origin</th>\n",
       "      <th>type</th>\n",
       "      <th>language</th>\n",
       "      <th>split</th>\n",
       "    </tr>\n",
       "  </thead>\n",
       "  <tbody>\n",
       "    <tr>\n",
       "      <th>1292</th>\n",
       "      <td>fr_369</td>\n",
       "      <td>NaN</td>\n",
       "      <td>0</td>\n",
       "      <td>277_lifeline_v1_FR_3217_0_1645089931</td>\n",
       "      <td>LREC2022</td>\n",
       "      <td>forum post</td>\n",
       "      <td>fr</td>\n",
       "      <td>SMM4H_25_dev</td>\n",
       "    </tr>\n",
       "  </tbody>\n",
       "</table>\n",
       "</div>"
      ],
      "text/plain": [
       "          id text  label                             file_name    origin  \\\n",
       "1292  fr_369  NaN      0  277_lifeline_v1_FR_3217_0_1645089931  LREC2022   \n",
       "\n",
       "            type language         split  \n",
       "1292  forum post       fr  SMM4H_25_dev  "
      ]
     },
     "execution_count": 29,
     "metadata": {},
     "output_type": "execute_result"
    }
   ],
   "source": [
    "dev_df2 = pd.read_csv(os.path.join(data_dir, 'dev_preprocessed.csv'))\n",
    "train_df2 = pd.read_csv(os.path.join(data_dir, 'train_preprocessed.csv'))\n",
    "\n",
    "\n",
    "dev_df2[dev_df2['text'].isna()]"
   ]
  },
  {
   "cell_type": "code",
   "execution_count": null,
   "id": "b275366e-f808-4f24-b322-b9201317bceb",
   "metadata": {},
   "outputs": [],
   "source": []
  }
 ],
 "metadata": {
  "kernelspec": {
   "display_name": "Python 3 (ipykernel)",
   "language": "python",
   "name": "python3"
  },
  "language_info": {
   "codemirror_mode": {
    "name": "ipython",
    "version": 3
   },
   "file_extension": ".py",
   "mimetype": "text/x-python",
   "name": "python",
   "nbconvert_exporter": "python",
   "pygments_lexer": "ipython3",
   "version": "3.12.9"
  }
 },
 "nbformat": 4,
 "nbformat_minor": 5
}
